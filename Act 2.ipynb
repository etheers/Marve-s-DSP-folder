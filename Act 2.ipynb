{
 "cells": [
  {
   "cell_type": "code",
   "execution_count": 2,
   "id": "9d66c878-0b77-4af9-8b74-f1db315d3ded",
   "metadata": {
    "tags": []
   },
   "outputs": [
    {
     "name": "stdin",
     "output_type": "stream",
     "text": [
      "Enter Word Here Hello Madlang People mabuhay!\n"
     ]
    },
    {
     "name": "stdout",
     "output_type": "stream",
     "text": [
      "Lowercase letters: 22\n",
      "Uppercase letters: 3\n",
      "Digits: 0\n",
      "Special symbols: 4\n"
     ]
    }
   ],
   "source": [
    "# Function to count characters in a string\n",
    "def count_characters(input_string):\n",
    "    # Initialize counters\n",
    "    lowercase_count = 0\n",
    "    uppercase_count = 0\n",
    "    digit_count = 0\n",
    "    special_count = 0\n",
    "\n",
    "    # Character reiteration in the string\n",
    "    for char in input_string:\n",
    "        if char.islower():\n",
    "            lowercase_count += 1\n",
    "        elif char.isupper():\n",
    "            uppercase_count += 1\n",
    "        elif char.isdigit():\n",
    "            digit_count += 1\n",
    "        else:\n",
    "            special_count += 1\n",
    "\n",
    "    return lowercase_count, uppercase_count, digit_count, special_count\n",
    "\n",
    "# Input string from the user\n",
    "input_string = input(\"Enter Word Here\")\n",
    "\n",
    "# Count characters\n",
    "lowercase, uppercase, digits, special = count_characters(input_string)\n",
    "\n",
    "# Display the results\n",
    "print(\"Lowercase letters:\", lowercase)\n",
    "print(\"Uppercase letters:\", uppercase)\n",
    "print(\"Digits:\", digits)\n",
    "print(\"Special symbols:\", special)\n"
   ]
  },
  {
   "cell_type": "code",
   "execution_count": null,
   "id": "d9385cf6-9552-41ef-a01d-01264f263466",
   "metadata": {},
   "outputs": [],
   "source": []
  }
 ],
 "metadata": {
  "kernelspec": {
   "display_name": "Python 3 (ipykernel)",
   "language": "python",
   "name": "python3"
  },
  "language_info": {
   "codemirror_mode": {
    "name": "ipython",
    "version": 3
   },
   "file_extension": ".py",
   "mimetype": "text/x-python",
   "name": "python",
   "nbconvert_exporter": "python",
   "pygments_lexer": "ipython3",
   "version": "3.11.4"
  }
 },
 "nbformat": 4,
 "nbformat_minor": 5
}
