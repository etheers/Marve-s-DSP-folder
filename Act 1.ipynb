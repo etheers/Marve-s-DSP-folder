{
 "cells": [
  {
   "cell_type": "code",
   "execution_count": 2,
   "id": "409d5d32-cc25-4dba-942e-d6b062de8115",
   "metadata": {
    "tags": []
   },
   "outputs": [
    {
     "name": "stdin",
     "output_type": "stream",
     "text": [
      "Name here:  Marve Bicbic\n",
      "Enter math score:  86\n",
      "Enter science score:  98\n",
      "Enter English score:  90\n"
     ]
    },
    {
     "name": "stdout",
     "output_type": "stream",
     "text": [
      "name: Marve Bicbic\n",
      "math: 86.0, Science: 98.0, English: 90.0\n",
      "average: (math 86.0, science 98.0, english 90.0, yours is 91.3)\n",
      "Congratulations, you passed!\n"
     ]
    }
   ],
   "source": [
    "# Prompt the user for student information\n",
    "name = input(\"Name here: \")\n",
    "math_score = float(input(\"Enter math score: \"))\n",
    "science_score = float(input(\"Enter science score: \"))\n",
    "english_score = float(input(\"Enter English score: \"))\n",
    "\n",
    "# Calculate the average score\n",
    "average_score = (math_score + science_score + english_score) / 3\n",
    "\n",
    "# Display the student's information, average score, and pass/fail message\n",
    "print(f\"name: {name}\")\n",
    "print(f\"math: {math_score}, Science: {science_score}, English: {english_score}\")\n",
    "print(f\"average: (math {math_score}, science {science_score}, english {english_score}, yours is {average_score:.1f})\")\n",
    "\n",
    "# Check if the student passed\n",
    "if average_score > 85:\n",
    "    print(\"Congratulations, you passed!\")\n",
    "else:\n",
    "    print(\"Better luck next time.\")"
   ]
  },
  {
   "cell_type": "code",
   "execution_count": null,
   "id": "397045ba-91d9-4406-84fa-178e4dc3d8da",
   "metadata": {},
   "outputs": [],
   "source": []
  }
 ],
 "metadata": {
  "kernelspec": {
   "display_name": "Python 3 (ipykernel)",
   "language": "python",
   "name": "python3"
  },
  "language_info": {
   "codemirror_mode": {
    "name": "ipython",
    "version": 3
   },
   "file_extension": ".py",
   "mimetype": "text/x-python",
   "name": "python",
   "nbconvert_exporter": "python",
   "pygments_lexer": "ipython3",
   "version": "3.11.4"
  }
 },
 "nbformat": 4,
 "nbformat_minor": 5
}
