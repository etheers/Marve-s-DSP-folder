{
 "cells": [
  {
   "cell_type": "code",
   "execution_count": 1,
   "id": "31c683dd-0f4b-4c5e-8323-2f935cf44c86",
   "metadata": {
    "tags": []
   },
   "outputs": [
    {
     "name": "stdin",
     "output_type": "stream",
     "text": [
      "Enter hours worked:  35\n",
      "Enter rate per hour:  2.75\n"
     ]
    },
    {
     "name": "stdout",
     "output_type": "stream",
     "text": [
      "Gross pay: 96.25\n"
     ]
    }
   ],
   "source": [
    "# Prompt the user for hours worked and hourly rate\n",
    "hours = float(input(\"Enter hours worked: \"))\n",
    "rate_per_hour = float(input(\"Enter rate per hour: \"))\n",
    "\n",
    "# Calculate gross pay\n",
    "gross_pay = hours * rate_per_hour\n",
    "\n",
    "# Display the result\n",
    "print(\"Gross pay:\", gross_pay)"
   ]
  },
  {
   "cell_type": "code",
   "execution_count": null,
   "id": "c720e770-a466-4ace-afff-cfdc0ab66763",
   "metadata": {},
   "outputs": [],
   "source": []
  }
 ],
 "metadata": {
  "kernelspec": {
   "display_name": "Python 3 (ipykernel)",
   "language": "python",
   "name": "python3"
  },
  "language_info": {
   "codemirror_mode": {
    "name": "ipython",
    "version": 3
   },
   "file_extension": ".py",
   "mimetype": "text/x-python",
   "name": "python",
   "nbconvert_exporter": "python",
   "pygments_lexer": "ipython3",
   "version": "3.11.4"
  }
 },
 "nbformat": 4,
 "nbformat_minor": 5
}
